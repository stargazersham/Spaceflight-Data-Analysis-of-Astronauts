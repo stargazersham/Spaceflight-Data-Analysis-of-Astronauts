{
 "cells": [
  {
   "cell_type": "code",
   "execution_count": 1,
   "metadata": {},
   "outputs": [],
   "source": [
    "import numpy as np\n",
    "import matplotlib.pyplot as plt\n",
    "import pandas as pd\n",
    "from scipy.stats import norm,binom,t, chi2\n",
    "from ipywidgets import interact\n",
    "import seaborn as sns\n",
    "%matplotlib inline"
   ]
  },
  {
   "cell_type": "markdown",
   "metadata": {},
   "source": [
    "![Astronaut](https://images.hindustantimes.com/rf/image_size_630x354/HT/p2/2017/09/18/Pictures/_becf7606-9c4c-11e7-ba2d-20fa1b34073f.jpg)"
   ]
  },
  {
   "cell_type": "markdown",
   "metadata": {},
   "source": [
    "# Spaceflights Data Analysis"
   ]
  },
  {
   "cell_type": "markdown",
   "metadata": {},
   "source": [
    "    We all were interested in space missions and and hence agreed that we would analyse spaceflights or space missions for our project but darker clouds lay ahead.\n",
    "    \n",
    "    Even after long dreamy nights we were not able to find proper and complete data about every space mission from the start and were turmoiled until we found a csv file of astronaut's missions having data about their individual missions."
   ]
  },
  {
   "cell_type": "markdown",
   "metadata": {},
   "source": [
    "    What could be a better way to analyse space missions and other aspects of it over the time than analysing astronaut's data over the missions."
   ]
  },
  {
   "cell_type": "markdown",
   "metadata": {},
   "source": [
    "***"
   ]
  },
  {
   "cell_type": "markdown",
   "metadata": {},
   "source": [
    "* The dataset being used is obtained from kaggle.com, which is one of the databases for a wide range of topics.\n",
    "\n",
    "* It is publicly accessable from aerospace.csis.org, which reaffirms its authenticity.\n"
   ]
  },
  {
   "cell_type": "markdown",
   "metadata": {},
   "source": [
    "---"
   ]
  },
  {
   "cell_type": "markdown",
   "metadata": {},
   "source": [
    "# Random Variables and other details:\n",
    "\n",
    "* The random variable we are using are:\n",
    " - Age of Astronaut during that mission\n",
    " - Gender ratio of Astronauts [Male to total astronauts]\n",
    " - Experience of astronauts\n",
    "\n",
    "* The statistics used:\n",
    " \n",
    " - $ \\bar{X} $ (Sample Mean) = $ \\frac{x_1 + x_2 + ... + x_n}{n} \\  \\ (<\\bar{X}> \\ \\ = \\ \\ \\mu \\ \\ [True \\ \\ Mean])$\n",
    " - $ S^2 $ (Sample Variance) = $ \\sum_{i = 1}^{n} \\frac{(x_i - \\bar{X})^2}{(n - 1)} \\  \\  (<S^2>  \\ \\ = \\ \\ \\sigma^2 \\ \\ [True \\ \\ Variance]) $\n",
    "\n",
    "\n",
    "\n",
    "* The dataset is divided into 2 parts: The old era (1961 - 1990) and the new era (1991 to 2019) and all random variables will be sampled for both"
   ]
  },
  {
   "cell_type": "markdown",
   "metadata": {},
   "source": [
    "### Reading, cleaning and manipulating data as per requirements"
   ]
  },
  {
   "cell_type": "code",
   "execution_count": 2,
   "metadata": {},
   "outputs": [
    {
     "name": "stderr",
     "output_type": "stream",
     "text": [
      "<ipython-input-2-789eeb4aef7a>:11: SettingWithCopyWarning: \n",
      "A value is trying to be set on a copy of a slice from a DataFrame.\n",
      "Try using .loc[row_indexer,col_indexer] = value instead\n",
      "\n",
      "See the caveats in the documentation: https://pandas.pydata.org/pandas-docs/stable/user_guide/indexing.html#returning-a-view-versus-a-copy\n",
      "  df_use['Experience'] = df['year_of_mission'] - df['year_of_selection']\n"
     ]
    }
   ],
   "source": [
    "Year = 1990\n",
    "\n",
    "# Reading the dataset:\n",
    "df = pd.read_csv('astronauts.csv', index_col = 'name')\n",
    "\n",
    "# Dataset cleaning and manipulation according to requirements:\n",
    "df['age'] = df['year_of_mission'] - df['year_of_birth']\n",
    "\n",
    "df_use = df[['sex', 'age', 'year_of_mission']]\n",
    "df_use.columns = ['Gender', 'Age', 'Year of Mission']\n",
    "df_use['Experience'] = df['year_of_mission'] - df['year_of_selection']\n",
    "\n",
    "df_use_new = df_use[df_use['Year of Mission'] >= Year]\n",
    "df_use_old = df_use[df_use['Year of Mission'] < Year]\n"
   ]
  },
  {
   "cell_type": "markdown",
   "metadata": {},
   "source": [
    "***"
   ]
  },
  {
   "cell_type": "markdown",
   "metadata": {},
   "source": [
    "### A glance at the true population parameters of Old/New/All Astronauts"
   ]
  },
  {
   "cell_type": "code",
   "execution_count": 3,
   "metadata": {},
   "outputs": [
    {
     "data": {
      "application/vnd.jupyter.widget-view+json": {
       "model_id": "18fa59ff05e14b7d865d424db13f3d24",
       "version_major": 2,
       "version_minor": 0
      },
      "text/plain": [
       "interactive(children=(Dropdown(description='Time', options=('Old', 'New', 'All'), value='Old'), Output()), _do…"
      ]
     },
     "metadata": {},
     "output_type": "display_data"
    }
   ],
   "source": [
    "# True Population parameters:\n",
    "def pop_par(Time):\n",
    "    Year = 1990\n",
    "\n",
    "    # Reading the dataset:\n",
    "    df = pd.read_csv('astronauts.csv', index_col = 'name')\n",
    "\n",
    "    # Dataset cleaning and manipulation according to requirements:\n",
    "    df['age'] = df['year_of_mission'] - df['year_of_birth']\n",
    "\n",
    "    df_use = df[['sex', 'age', 'year_of_mission']]\n",
    "    df_use.columns = ['Gender', 'Age', 'Year of Mission']\n",
    "    df_use['Experience'] = df['year_of_mission'] - df['year_of_selection']\n",
    "\n",
    "    df_use_new = df_use[df_use['Year of Mission'] >= Year]\n",
    "    df_use_old = df_use[df_use['Year of Mission'] < Year]\n",
    "    \n",
    "    if Time == 'New':\n",
    "        print(df_use_new.describe(), '\\n')\n",
    "        print('Ratio of male to total Astronauts in New Era:', df_use_new[df_use_new['Gender'] == 'male']['Gender'].count()/df_use_new['Gender'].count())\n",
    "    elif Time == 'Old':\n",
    "        print(df_use_old.describe(), '\\n')\n",
    "        print('Ratio of male to total Astronauts in Old Era:', df_use_old[df_use_old['Gender'] == 'male']['Gender'].count()/df_use_old['Gender'].count())\n",
    "    else:\n",
    "        print(df_use.describe(), '\\n')\n",
    "        print('Ratio of male to total Astronauts for all time:', df_use[df_use['Gender'] == 'male']['Gender'].count()/df_use['Gender'].count())\n",
    "\n",
    "interact(pop_par, Time = ['Old', 'New', 'All']);"
   ]
  },
  {
   "cell_type": "markdown",
   "metadata": {},
   "source": [
    "***"
   ]
  },
  {
   "cell_type": "markdown",
   "metadata": {},
   "source": [
    "### Marginal distribution of Old/New/All Astronauts"
   ]
  },
  {
   "cell_type": "code",
   "execution_count": 4,
   "metadata": {},
   "outputs": [
    {
     "data": {
      "application/vnd.jupyter.widget-view+json": {
       "model_id": "b0abc12c1ee44d1baf4fd9a65eea627f",
       "version_major": 2,
       "version_minor": 0
      },
      "text/plain": [
       "interactive(children=(Dropdown(description='Time', options=('New', 'Old', 'All'), value='New'), Output()), _do…"
      ]
     },
     "metadata": {},
     "output_type": "display_data"
    }
   ],
   "source": [
    "# Marginal Distribution:\n",
    "def True_marginal_dist(Time):\n",
    "    Year = 1990\n",
    "\n",
    "    # Reading the dataset:\n",
    "    df = pd.read_csv('astronauts.csv', index_col = 'name')\n",
    "\n",
    "    # Dataset cleaning and manipulation according to requirements:\n",
    "    df['age'] = df['year_of_mission'] - df['year_of_birth']\n",
    "\n",
    "    df_use = df[['sex', 'age', 'year_of_mission']]\n",
    "    df_use.columns = ['Gender', 'Age', 'Year of Mission']\n",
    "    df_use['Experience'] = df['year_of_mission'] - df['year_of_selection']\n",
    "\n",
    "    df_use_new = df_use[df_use['Year of Mission'] >= Year]\n",
    "    df_use_old = df_use[df_use['Year of Mission'] < Year]\n",
    "    \n",
    "    fig, ax = plt.subplots(1,2, figsize = (16,7))\n",
    "    \n",
    "    if Time == 'New':\n",
    "        ax[0].hist(df_use_new['Age'], color = 'r', alpha = 0.75, density = True)\n",
    "        ax[0].set_title('New Era Age Distribution')\n",
    "        ax[1].hist(df_use_new['Experience'], color = 'g', alpha = 0.75, density = True)\n",
    "        ax[1].set_title('New Era Experience distribution')\n",
    "    \n",
    "    elif Time == 'Old':\n",
    "        ax[0].hist(df_use_old['Age'], color = 'r', alpha = 0.75, density = True)\n",
    "        ax[0].set_title('Old Era Age Distribution')\n",
    "        ax[1].hist(df_use_old['Experience'], color = 'g', alpha = 0.75, density = True)\n",
    "        ax[1].set_title('Old Era Experience distribution')\n",
    "    \n",
    "    else:\n",
    "        ax[0].hist(df_use['Age'], color = 'r', alpha = 0.75, density = True)\n",
    "        ax[0].set_title('All time Age Distribution')\n",
    "        ax[1].hist(df_use['Experience'], color = 'g', alpha = 0.75, density = True)\n",
    "        ax[1].set_title('All time Experience distribution')\n",
    "\n",
    "interact(True_marginal_dist, Time = ['New', 'Old', 'All']);"
   ]
  },
  {
   "cell_type": "markdown",
   "metadata": {},
   "source": [
    "***"
   ]
  },
  {
   "cell_type": "markdown",
   "metadata": {},
   "source": [
    "### Joint Plot of Old/New/All Astronaut's days in space and age"
   ]
  },
  {
   "cell_type": "code",
   "execution_count": 5,
   "metadata": {},
   "outputs": [
    {
     "data": {
      "application/vnd.jupyter.widget-view+json": {
       "model_id": "061b1ab2d3f345e8ad6764045047b45c",
       "version_major": 2,
       "version_minor": 0
      },
      "text/plain": [
       "interactive(children=(Dropdown(description='Time', options=('New', 'Old', 'All'), value='New'), Output()), _do…"
      ]
     },
     "metadata": {},
     "output_type": "display_data"
    }
   ],
   "source": [
    "# Joint Plot:\n",
    "def joint_plot(Time):\n",
    "    Year = 1990\n",
    "\n",
    "    # Reading the dataset:\n",
    "    df = pd.read_csv('astronauts.csv', index_col = 'name')\n",
    "\n",
    "    # Dataset cleaning and manipulation according to requirements:\n",
    "    df['age'] = df['year_of_mission'] - df['year_of_birth']\n",
    "\n",
    "    df_use = df[['sex', 'age', 'year_of_mission']]\n",
    "    df_use.columns = ['Gender', 'Age', 'Year of Mission']\n",
    "    df_use['Experience'] = df['year_of_mission'] - df['year_of_selection']\n",
    "\n",
    "    df_use_new = df_use[df_use['Year of Mission'] >= Year]\n",
    "    df_use_old = df_use[df_use['Year of Mission'] < Year]\n",
    "    \n",
    "    if Time == 'New':\n",
    "        sns.jointplot(data = df_use_new, x = 'Age', y = 'Experience', kind = 'hist')\n",
    "    elif Time == 'Old':\n",
    "        sns.jointplot(data = df_use_old, x = 'Age', y = 'Experience', kind = 'hist')\n",
    "    else:\n",
    "        sns.jointplot(data = df_use, x = 'Age', y = 'Experience', kind = 'hist')\n",
    "\n",
    "interact(joint_plot, Time = ['New', 'Old', 'All']);    "
   ]
  },
  {
   "cell_type": "markdown",
   "metadata": {},
   "source": [
    "***"
   ]
  },
  {
   "cell_type": "markdown",
   "metadata": {},
   "source": [
    "### Sampling Distribution"
   ]
  },
  {
   "cell_type": "code",
   "execution_count": 6,
   "metadata": {},
   "outputs": [
    {
     "data": {
      "application/vnd.jupyter.widget-view+json": {
       "model_id": "754edda8eff5431e8aa72b7bbe5109cc",
       "version_major": 2,
       "version_minor": 0
      },
      "text/plain": [
       "interactive(children=(IntSlider(value=75, description='n_samples', min=50, step=5), IntSlider(value=25, descri…"
      ]
     },
     "metadata": {},
     "output_type": "display_data"
    }
   ],
   "source": [
    "def sampling_dist_est(n_samples, n_size, Time, conf):\n",
    "    Year = 1990\n",
    "\n",
    "    # Reading the dataset:\n",
    "    df = pd.read_csv('astronauts.csv', index_col = 'name')\n",
    "\n",
    "    # Dataset cleaning and manipulation according to requirements:\n",
    "    df['age'] = df['year_of_mission'] - df['year_of_birth']\n",
    "\n",
    "    df_use = df[['sex', 'age', 'year_of_mission']]\n",
    "    df_use.columns = ['Gender', 'Age', 'Year of Mission']\n",
    "    df_use['Experience'] = df['year_of_mission'] - df['year_of_selection']\n",
    "\n",
    "    df_use_new = df_use[df_use['Year of Mission'] >= Year]\n",
    "    df_use_old = df_use[df_use['Year of Mission'] < Year]\n",
    "    \n",
    "    fig, ax = plt.subplots(3,2, figsize = (20,20))\n",
    "    \n",
    "    samples, sample_means_age, sample_variances_age, sample_means_ex, sample_variances_ex, sample_ratios = [], [], [], [], [], []\n",
    "    \n",
    "    if Time == 'New':\n",
    "        for i in range(n_samples):\n",
    "            a = df_use_new.sample(n = n_size)\n",
    "        \n",
    "            samples.append(a)\n",
    "        \n",
    "            sample_means_age.append(np.mean(a['Age']))\n",
    "            sample_variances_age.append((n_size*np.var(a['Age']))/(n_size - 1))\n",
    "        \n",
    "            sample_means_ex.append(np.mean(a['Experience']))\n",
    "            sample_variances_ex.append((n_size*np.var(a['Experience']))/(n_size - 1))\n",
    "            \n",
    "            sample_ratios.append(a[a['Gender'] == 'male']['Gender'].count()/a['Gender'].count())\n",
    "        \n",
    "        ax[0, 0].hist(sample_means_age, density = True, color = 'r', alpha = 0.5)\n",
    "        ax[0, 0].set_title('Sampling Distribution of Sample Mean of Age in New Era')\n",
    "        ax[0, 0].plot(np.linspace(39, 49, 1000), norm(loc = np.mean(df_use_new['Age']), scale = np.std(df_use_new['Age'])/np.sqrt(n_size)).pdf(np.linspace(39, 49, 1000)), color = 'y', linewidth = 3)\n",
    "        \n",
    "        ax[0, 1].hist(sample_variances_age, density = True, color = 'g', alpha = 0.5)\n",
    "        ax[0, 1].set_title('Sampling Distribution of Sample Variance of Age in New Era')\n",
    "        ax[0, 1].plot(np.linspace(0, 90, 1000), chi2(df = n_size).pdf(np.linspace(0, 90, 1000)))\n",
    "        \n",
    "        ax[1, 0].hist(sample_means_ex, density = True, color = 'r', alpha = 0.5)\n",
    "        ax[1, 0].set_title('Sampling Distribution of Sample mean of Experience in space in New Era')\n",
    "        ax[1, 0].plot(np.linspace(4, 14, 1000), norm(loc = np.mean(df_use_new['Experience']), scale = np.std(df_use_new['Experience'])/np.sqrt(n_size)).pdf(np.linspace(4, 14, 1000)))\n",
    "        \n",
    "        ax[1, 1].hist(sample_variances_ex, density = True, color = 'g', alpha = 0.5)\n",
    "        ax[1, 1].set_title('Sampling Distribution of Sample Variance of Experience in New Era')\n",
    "        ax[1, 1].plot(np.linspace(0, 70, 1000), chi2(df = n_size - 1).pdf(np.linspace(0, 70, 1000)))\n",
    "        \n",
    "        ax[2, 0].hist(sample_ratios)\n",
    "        ax[2, 0].set_title('Ratio of males in the sample in the new era')\n",
    "        \n",
    "        x_bar_age = np.mean(a['Age'])\n",
    "        S_age = np.sqrt(np.var(a['Age'])*((n_size)/(n_size - 1)))\n",
    "        interval_age = [x_bar_age - (norm.cdf((1 - (conf/100))/2)*(np.std(df_use_new['Age']))/(np.sqrt(n_size))), x_bar_age + (norm.cdf((1 - (conf/100))/2)*(np.std(df_use_new['Age']))/(np.sqrt(n_size)))]\n",
    "        \n",
    "        print('Point estimate for the sample age of new era is:', '\\n', 'Sample mean =', x_bar_age, '\\n', 'Sample standard deviation =', S_age, '\\n')\n",
    "        print('Interval Estimate for true mean of age in new era for confidence level of', conf, '% is: (', interval_age[0],',', interval_age[1], ')', '\\n')\n",
    "        \n",
    "        x_bar_ex = np.mean(a['Experience'])\n",
    "        S_ex = np.sqrt(np.var(a['Experience'])*((n_size)/(n_size - 1)))\n",
    "        interval_ex = [x_bar_ex - (norm.cdf((1 - (conf/100))/2)*(np.std(df_use_new['Experience']))/(np.sqrt(n_size))), x_bar_ex + (norm.cdf((1 - (conf/100))/2)*(np.std(df_use_new['Experience']))/(np.sqrt(n_size)))]\n",
    "        \n",
    "        print('Point estimate for the sample Experience of new era is:', '\\n', 'Sample mean =', x_bar_ex, '\\n', 'Sample standard deviation =', S_ex, '\\n')\n",
    "        print('Interval Estimate for true mean of Experience in new era for confidence level of', conf, '% is: (', interval_ex[0],',', interval_ex[1], ')', '\\n')\n",
    "        \n",
    "    \n",
    "    \n",
    "    elif Time == 'Old':\n",
    "        for i in range(n_samples):\n",
    "            \n",
    "            a = df_use_old.sample(n = n_size)\n",
    "        \n",
    "            samples.append(a)\n",
    "        \n",
    "            sample_means_age.append(np.mean(a['Age']))\n",
    "            sample_variances_age.append((n_size*np.var(a['Age']))/(n_size - 1))\n",
    "        \n",
    "            sample_means_ex.append(np.mean(a['Experience']))\n",
    "            sample_variances_ex.append((n_size*np.var(a['Experience']))/(n_size - 1))\n",
    "            \n",
    "            sample_ratios.append(a[a['Gender'] == 'male']['Gender'].count()/a['Gender'].count())\n",
    "        \n",
    "        ax[0, 0].hist(sample_means_age, density = True, color = 'r', alpha = 0.5)\n",
    "        ax[0, 0].set_title('Sampling Distribution of Sample Mean of Age in Old Era')\n",
    "        ax[0, 0].plot(np.linspace(37, 47, 1000), norm(loc = np.mean(df_use_old['Age']), scale = np.std(df_use_old['Age'])/np.sqrt(n_size)).pdf(np.linspace(37, 47, 1000)), color = 'y', linewidth = 3)\n",
    "        \n",
    "        ax[0, 1].hist(sample_variances_age, density = True, color = 'g', alpha = 0.5)\n",
    "        ax[0, 1].set_title('Sampling Distribution of Sample Variance of Age in Old Era')\n",
    "        ax[0, 1].plot(np.linspace(0, 90, 1000), chi2(df = n_size).pdf(np.linspace(0, 90, 1000)))\n",
    "        \n",
    "        ax[1, 0].hist(sample_means_ex, density = True, color = 'r', alpha = 0.5)\n",
    "        ax[1, 0].set_title('Sampling Distribution of Sample Mean of Experience in Old Era')\n",
    "        ax[1, 0].plot(np.linspace(4, 12, 1000), norm(loc = np.mean(df_use_old['Experience']), scale = np.std(df_use_old['Experience'])/np.sqrt(n_size)).pdf(np.linspace(4, 12, 1000)))\n",
    "        \n",
    "        ax[1, 1].hist(sample_variances_ex, density = True, color = 'g', alpha = 0.5)\n",
    "        ax[1, 1].set_title('Sampling Distribution of Sample Variance of Experience in Old Era')\n",
    "        ax[1, 1].plot(np.linspace(0, 70, 1000), chi2(df = n_size - 1).pdf(np.linspace(0, 70, 1000)))\n",
    "        \n",
    "        ax[2, 0].hist(sample_ratios)\n",
    "        ax[2, 0].set_title('Ratio of males in the sample in the old era')\n",
    "        \n",
    "        x_bar_age = np.mean(a['Age'])\n",
    "        S_age = np.sqrt(np.var(a['Age'])*((n_size)/(n_size - 1)))\n",
    "        interval_age = [x_bar_age - (norm.cdf((1 - (conf/100))/2)*(np.std(df_use_old['Age']))/(np.sqrt(n_size))), x_bar_age + (norm.cdf((1 - (conf/100))/2)*(np.std(df_use_old['Age']))/(np.sqrt(n_size)))]\n",
    "        \n",
    "        print('Point estimate for the sample age of old era is:', '\\n', 'Sample mean =', x_bar_age, '\\n', 'Sample standard deviation =', S_age, '\\n')\n",
    "        print('Interval Estimate for true mean of age in old era for confidence level of', conf, '% is: (', interval_age[0],',', interval_age[1], ')', '\\n')\n",
    "        \n",
    "        x_bar_ex= np.mean(a['Experience'])\n",
    "        S_ex = np.sqrt(np.var(a['Experience'])*((n_size)/(n_size - 1)))\n",
    "        interval_ex = [x_bar_ex - (norm.cdf((1 - (conf/100))/2)*(np.std(df_use_old['Experience']))/(np.sqrt(n_size))), x_bar_ex + (norm.cdf((1 - (conf/100))/2)*(np.std(df_use_old['Experience']))/(np.sqrt(n_size)))]\n",
    "        \n",
    "        print('Point estimate for the sample Experience of old era is:', '\\n', 'Sample mean =', x_bar_ex, '\\n', 'Sample standard deviation =', S_ex, '\\n')\n",
    "        print('Interval Estimate for true mean of Experience in old era for confidence level of', conf, '% is: (', interval_ex[0],',', interval_ex[1], ')', '\\n')\n",
    "        \n",
    "        \n",
    "    else:\n",
    "        for i in range(n_samples):\n",
    "            \n",
    "            a = df_use.sample(n = n_size)\n",
    "        \n",
    "            samples.append(a)\n",
    "        \n",
    "            sample_means_age.append(np.mean(a['Age']))\n",
    "            sample_variances_age.append((n_size*np.var(a['Age']))/(n_size - 1))\n",
    "        \n",
    "            sample_means_ex.append(np.mean(a['Experience']))\n",
    "            sample_variances_ex.append((n_size*np.var(a['Experience']))/(n_size - 1))\n",
    "            \n",
    "            sample_ratios.append(a[a['Gender'] == 'male']['Gender'].count()/a['Gender'].count())\n",
    "        \n",
    "        ax[0, 0].hist(sample_means_age, density = True, color = 'r', alpha = 0.5)\n",
    "        ax[0, 0].set_title('Sampling Distribution of Sample Mean of Age of all time')\n",
    "        ax[0, 0].plot(np.linspace(39, 48, 1000), norm(loc = np.mean(df_use['Age']), scale = np.std(df_use['Age'])/np.sqrt(n_size)).pdf(np.linspace(39, 48, 1000)), color = 'y', linewidth = 3)\n",
    "        \n",
    "        ax[0, 1].hist(sample_variances_age, density = True, color = 'g', alpha = 0.5)\n",
    "        ax[0, 1].set_title('Sampling Distribution of Sample Variance of Age of all time')\n",
    "        ax[0, 1].plot(np.linspace(0, 90, 1000), chi2(df = n_size).pdf(np.linspace(0, 90, 1000)))\n",
    "        \n",
    "        ax[1, 0].hist(sample_means_ex, density = True, color = 'r', alpha = 0.5)\n",
    "        ax[1, 0].set_title('Sampling Distribution of Sample Mean of Experience of all time')\n",
    "        ax[1, 0].plot(np.linspace(4, 14, 1000), norm(loc = np.mean(df_use['Experience']), scale = np.std(df_use['Experience'])/np.sqrt(n_size)).pdf(np.linspace(4, 14, 1000)))\n",
    "        \n",
    "        ax[1, 1].hist(sample_variances_ex, density = True, color = 'g', alpha = 0.5)\n",
    "        ax[1, 1].set_title('Sampling Distribution of Sample Variance of Experience of all time')\n",
    "        ax[1, 1].plot(np.linspace(0, 70, 1000), chi2(df = n_size - 1).pdf(np.linspace(0, 70, 1000)))\n",
    "        \n",
    "        ax[2, 0].hist(sample_ratios)\n",
    "        ax[2, 0].set_title('Ratio of males in the sample in all time')\n",
    "        \n",
    "        x_bar_age = np.mean(a['Age'])\n",
    "        S_age = np.sqrt(np.var(a['Age'])*((n_size)/(n_size - 1)))\n",
    "        interval_age = [x_bar_age - (norm.cdf((1 - (conf/100))/2)*(np.std(df_use['Age']))/(np.sqrt(n_size))), x_bar_age + (norm.cdf((1 - (conf/100))/2)*(np.std(df_use['Age']))/(np.sqrt(n_size)))]\n",
    "        \n",
    "        print('Point estimate for the sample age of all time is:', '\\n', 'Sample mean =', x_bar_age, '\\n', 'Sample standard deviation =', S_age, '\\n')\n",
    "        print('Interval Estimate for true mean of age in all time for confidence level of', conf, '% is: (', interval_age[0],',', interval_age[1], ')', '\\n')\n",
    "        \n",
    "        x_bar_ex = np.mean(a['Experience'])\n",
    "        S_ex = np.sqrt(np.var(a['Experience'])*((n_size)/(n_size - 1)))\n",
    "        interval_ex = [x_bar_ex - (norm.cdf((1 - (conf/100))/2)*(np.std(df_use['Experience']))/(np.sqrt(n_size))), x_bar_ex + (norm.cdf((1 - (conf/100))/2)*(np.std(df_use['Experience']))/(np.sqrt(n_size)))]\n",
    "        \n",
    "        print('Point estimate for the sample Experience of all time is:', '\\n', 'Sample mean =', x_bar_ex, '\\n', 'Sample standard deviation =', S_ex, '\\n')\n",
    "        print('Interval Estimate for true mean of Experience in all time for confidence level of', conf, '% is: (', interval_ex[0],',', interval_ex[1], ')', '\\n')\n",
    "        \n",
    "    \n",
    "\n",
    "interact(sampling_dist_est, n_samples = (50, 100, 5), n_size = (10, 40, 1), Time = ['Old', 'New', 'All'], conf = (95, 99, 0.1));"
   ]
  },
  {
   "cell_type": "code",
   "execution_count": 7,
   "metadata": {},
   "outputs": [],
   "source": [
    "df = pd.read_csv('astronauts.csv')\n",
    "df['age'] = df['year_of_mission'] - df['year_of_birth']\n",
    "\n",
    "df_use = df.drop(['id', 'number', 'nationwide_number', 'name', 'original_name', 'eva_hrs_mission', 'year_of_birth', 'nationality', 'military_civilian', 'selection', 'year_of_selection', 'mission_number', 'total_number_of_missions', 'occupation', 'mission_title', 'ascend_shuttle', 'in_orbit', 'descend_shuttle', 'total_hrs_sum', 'field21', 'total_eva_hrs'], axis = 1)\n",
    "df_use.columns = ['Gender', 'Mission year', 'Days in Space', 'Age']\n",
    "df_use['Days in Space'] = df_use['Days in Space']/24"
   ]
  },
  {
   "cell_type": "code",
   "execution_count": 8,
   "metadata": {},
   "outputs": [
    {
     "data": {
      "text/plain": [
       "1134"
      ]
     },
     "execution_count": 8,
     "metadata": {},
     "output_type": "execute_result"
    }
   ],
   "source": [
    "np.sum(df['sex']=='male')"
   ]
  },
  {
   "cell_type": "markdown",
   "metadata": {},
   "source": [
    "# HYPOTHESIS TESTING:"
   ]
  },
  {
   "cell_type": "markdown",
   "metadata": {},
   "source": [
    "<b>Hypothesis 1:</b> The probability that the astronaut in a mission is male is equal to 0.86<br>\n",
    "                For a total of 1277 space visits, astronauts --> $n$=1277, $p_0$ = 0.86<br>\n",
    "                The observed number of males  is = 1134<br>\n",
    "$H_0$ : $p$ = $p_0$<br>\n",
    "$H_1$ : $p\\neq p_0$\n"
   ]
  },
  {
   "cell_type": "code",
   "execution_count": 9,
   "metadata": {},
   "outputs": [],
   "source": [
    "n=1277\n",
    "p0=0.86\n",
    "rv = binom(n,p0)\n",
    "test_stat = 1134"
   ]
  },
  {
   "cell_type": "code",
   "execution_count": 10,
   "metadata": {},
   "outputs": [
    {
     "data": {
      "text/plain": [
       "(1000.0, 1200.0)"
      ]
     },
     "execution_count": 10,
     "metadata": {},
     "output_type": "execute_result"
    },
    {
     "data": {
      "image/png": "[encoded data removed]",
      "text/plain": [
       "<Figure size 432x288 with 1 Axes>"
      ]
     },
     "metadata": {
      "needs_background": "light"
     },
     "output_type": "display_data"
    }
   ],
   "source": [
    "x = np.arange(0,n+1)\n",
    "plt.plot(x,rv.pmf(x))\n",
    "plt.xlim(1000,1200)"
   ]
  },
  {
   "cell_type": "code",
   "execution_count": 11,
   "metadata": {},
   "outputs": [
    {
     "data": {
      "text/plain": [
       "1074.0"
      ]
     },
     "execution_count": 11,
     "metadata": {},
     "output_type": "execute_result"
    }
   ],
   "source": [
    "rv.ppf(1-0.975)"
   ]
  },
  {
   "cell_type": "code",
   "execution_count": 12,
   "metadata": {},
   "outputs": [
    {
     "data": {
      "text/plain": [
       "(1000.0, 1200.0)"
      ]
     },
     "execution_count": 12,
     "metadata": {},
     "output_type": "execute_result"
    },
    {
     "data": {
      "image/png": "[encoded data removed]",
      "text/plain": [
       "<Figure size 432x288 with 1 Axes>"
      ]
     },
     "metadata": {
      "needs_background": "light"
     },
     "output_type": "display_data"
    }
   ],
   "source": [
    "plt.plot(x,rv.pmf(x))\n",
    "#plt.vlines([rv.ppf(0.05),rv.ppf(0.975)],0.015,0,'r')\n",
    "a = np.linspace(1000,rv.ppf(0.05),200)\n",
    "b = np.linspace(rv.ppf(0.975),1200,200)\n",
    "plt.vlines(a,rv.pmf(a),0,'r')\n",
    "plt.vlines(b,rv.pmf(b),0,'r')\n",
    "plt.vlines(test_stat,0.01,0,'g')\n",
    "plt.xlim(1000,1200)"
   ]
  },
  {
   "cell_type": "markdown",
   "metadata": {},
   "source": [
    "Since the test statistic lies in the critical region ,we <b>reject</b> the null hypothesis"
   ]
  },
  {
   "cell_type": "markdown",
   "metadata": {},
   "source": [
    "---"
   ]
  },
  {
   "cell_type": "markdown",
   "metadata": {},
   "source": [
    "<b>Hypothesis 2:</b> Since the data is divided into 2 eras, old and new, we claim that the average age of an astronaut in both the eras is not the same.<br>\n",
    "$H_0 : \\mu_1 = \\mu_2$<br>\n",
    "$H_1 : \\mu_1 \\neq \\mu_2$"
   ]
  },
  {
   "cell_type": "code",
   "execution_count": 13,
   "metadata": {},
   "outputs": [],
   "source": [
    "old_era = df[df['year_of_mission']<=1990]\n",
    "new_era = df[df['year_of_mission']>1990]"
   ]
  },
  {
   "cell_type": "code",
   "execution_count": 14,
   "metadata": {},
   "outputs": [],
   "source": [
    "smpl1 = old_era['age'].sample(n=100)\n",
    "Xbar1 = smpl1.mean()\n",
    "S1 = np.sqrt(100/99*smpl1.var())"
   ]
  },
  {
   "cell_type": "markdown",
   "metadata": {},
   "source": [
    "\n",
    "Calculating $\\bar{X_1} , S_1 , \\bar{X_2} , S_2$"
   ]
  },
  {
   "cell_type": "code",
   "execution_count": 15,
   "metadata": {},
   "outputs": [],
   "source": [
    "smpl2 = new_era['age'].sample(n=100)\n",
    "Xbar2 = smpl2.mean()\n",
    "S2 = np.sqrt(100/99*smpl2.var())"
   ]
  },
  {
   "cell_type": "markdown",
   "metadata": {},
   "source": [
    "The spool sample variance $S_p$"
   ]
  },
  {
   "cell_type": "code",
   "execution_count": 16,
   "metadata": {},
   "outputs": [],
   "source": [
    "Sp = np.sqrt((99*S1**2 + 99*S2**2)/198) \n"
   ]
  },
  {
   "cell_type": "code",
   "execution_count": 17,
   "metadata": {},
   "outputs": [
    {
     "data": {
      "text/plain": [
       "-5.91909648078722"
      ]
     },
     "execution_count": 17,
     "metadata": {},
     "output_type": "execute_result"
    }
   ],
   "source": [
    "test_stat = (Xbar1-Xbar2)/np.sqrt(Sp*Sp*(2/100))\n",
    "test_stat"
   ]
  },
  {
   "cell_type": "code",
   "execution_count": 18,
   "metadata": {},
   "outputs": [
    {
     "data": {
      "text/plain": [
       "-1.972017477833896"
      ]
     },
     "execution_count": 18,
     "metadata": {},
     "output_type": "execute_result"
    }
   ],
   "source": [
    "alpha = 0.05\n",
    "t_alphaby2 = t(198).ppf(alpha/2)\n",
    "t_alphaby2"
   ]
  },
  {
   "cell_type": "code",
   "execution_count": 19,
   "metadata": {},
   "outputs": [
    {
     "data": {
      "text/plain": [
       "<matplotlib.collections.LineCollection at 0x29ab774aa90>"
      ]
     },
     "execution_count": 19,
     "metadata": {},
     "output_type": "execute_result"
    },
    {
     "data": {
      "image/png": "[encoded data removed]",
      "text/plain": [
       "<Figure size 432x288 with 1 Axes>"
      ]
     },
     "metadata": {
      "needs_background": "light"
     },
     "output_type": "display_data"
    }
   ],
   "source": [
    "x = np.linspace(-8,8,100)\n",
    "plt.plot(x,t(198).pdf(x))\n",
    "a = np.linspace(-8,t_alphaby2,100)\n",
    "b = np.linspace(-t_alphaby2,8,100)\n",
    "plt.vlines(a,t(198).pdf(a),0,'r')\n",
    "plt.vlines(b,t(198).pdf(b),0,'r')\n",
    "plt.vlines(test_stat,0.1,0,'g')\n"
   ]
  },
  {
   "cell_type": "markdown",
   "metadata": {},
   "source": [
    "Since the test statistic lies inside the critical region, we reject the null hypothesis."
   ]
  },
  {
   "cell_type": "markdown",
   "metadata": {},
   "source": [
    "<b>Hypothesis 3:</b> The probability of a male astronaut on a mission has changed while going from the old to the new era.<br>\n",
    "$H_0 : \\mu_1 = \\mu_2$<br>\n",
    "$H_1 : \\mu_1 > \\mu_2$<br>\n",
    "Where $ \\mu_1 and \\mu_2$ are the mean of number of male astronauts in the old and new era respectively (considering a sample of 100)"
   ]
  },
  {
   "cell_type": "code",
   "execution_count": 20,
   "metadata": {},
   "outputs": [],
   "source": [
    "df0 = df\n",
    "df0['sex'].replace('male',1.,inplace=True)\n",
    "df0['sex'].replace('female',0.,inplace=True)"
   ]
  },
  {
   "cell_type": "code",
   "execution_count": 21,
   "metadata": {},
   "outputs": [],
   "source": [
    "old_era1 = df0[df0['year_of_mission']<=1990]\n",
    "new_era1 = df0[df0['year_of_mission']>1990]"
   ]
  },
  {
   "cell_type": "code",
   "execution_count": 22,
   "metadata": {},
   "outputs": [],
   "source": [
    "gen_era_old = [np.sum(old_era1['sex'].sample(n=20,replace=True)) for i in range(100)]\n",
    "gen_era_new = [np.sum(new_era1['sex'].sample(n=20,replace=True)) for i in range(100)]"
   ]
  },
  {
   "cell_type": "code",
   "execution_count": 23,
   "metadata": {},
   "outputs": [
    {
     "data": {
      "text/plain": [
       "(19.06, 1.0343571611595799)"
      ]
     },
     "execution_count": 23,
     "metadata": {},
     "output_type": "execute_result"
    }
   ],
   "source": [
    "GXbar1 = np.mean(gen_era_old)\n",
    "GS1 = np.sqrt(20/19*np.var(gen_era_old))\n",
    "GXbar1,GS1"
   ]
  },
  {
   "cell_type": "code",
   "execution_count": 24,
   "metadata": {},
   "outputs": [
    {
     "data": {
      "text/plain": [
       "(17.04, 1.5955200439124277)"
      ]
     },
     "execution_count": 24,
     "metadata": {},
     "output_type": "execute_result"
    }
   ],
   "source": [
    "GXbar2 = np.mean(gen_era_new)\n",
    "GS2 = np.sqrt(20/19*np.var(gen_era_new))\n",
    "GXbar2,GS2"
   ]
  },
  {
   "cell_type": "code",
   "execution_count": 25,
   "metadata": {},
   "outputs": [
    {
     "data": {
      "text/plain": [
       "1.3445406180864192"
      ]
     },
     "execution_count": 25,
     "metadata": {},
     "output_type": "execute_result"
    }
   ],
   "source": [
    "GSp = np.sqrt((GS1**2+GS2**2)/2)\n",
    "GSp"
   ]
  },
  {
   "cell_type": "code",
   "execution_count": 26,
   "metadata": {},
   "outputs": [
    {
     "data": {
      "text/plain": [
       "4.750916995450378"
      ]
     },
     "execution_count": 26,
     "metadata": {},
     "output_type": "execute_result"
    }
   ],
   "source": [
    "(GXbar1-GXbar2)/(GSp*np.sqrt(2/20))"
   ]
  },
  {
   "cell_type": "code",
   "execution_count": 27,
   "metadata": {},
   "outputs": [
    {
     "data": {
      "text/plain": [
       "2.345328348533689"
      ]
     },
     "execution_count": 27,
     "metadata": {},
     "output_type": "execute_result"
    }
   ],
   "source": [
    "t(198).ppf(0.990)"
   ]
  },
  {
   "cell_type": "code",
   "execution_count": 28,
   "metadata": {},
   "outputs": [
    {
     "data": {
      "text/plain": [
       "<matplotlib.collections.LineCollection at 0x29ab7893cd0>"
      ]
     },
     "execution_count": 28,
     "metadata": {},
     "output_type": "execute_result"
    },
    {
     "data": {
      "image/png": "[encoded data removed]",
      "text/plain": [
       "<Figure size 432x288 with 1 Axes>"
      ]
     },
     "metadata": {
      "needs_background": "light"
     },
     "output_type": "display_data"
    }
   ],
   "source": [
    "x = np.linspace(-6,6,100)\n",
    "plt.plot(x,t(198).pdf(x))\n",
    "a = np.linspace(-6,t_alphaby2,100)\n",
    "b = np.linspace(-t_alphaby2,6,100)\n",
    "plt.vlines(a,t(198).pdf(a),0,'r')\n",
    "plt.vlines(b,t(198).pdf(b),0,'r')\n",
    "plt.vlines(test_stat,0.1,0,'g')"
   ]
  },
  {
   "cell_type": "markdown",
   "metadata": {},
   "source": [
    "The test statistic lies in the critical region, hence the null hypothesis is rejected."
   ]
  },
  {
   "cell_type": "markdown",
   "metadata": {},
   "source": [
    "Some conclusions: <br>\n",
    "1. The probability that the astronaut is male in a particular mission is not 0.86\n",
    "2. The true mean age of the astronauts in both the eras is not the same\n",
    "3. The probability of the astronaut being a male is not the same in both the eras. In fact, it is less in the new era.Thus the number of female astronauts have increased."
   ]
  },
  {
   "cell_type": "markdown",
   "metadata": {},
   "source": [
    "# Relationship Between Two Variables\n",
    "### We can guess that the age* and experience** of an astronaut would be related. But can we say that they are linearly related.\n",
    " \n",
    "    * Age during the mission\n",
    "    ** Years of experience from the difference between the year of mission and year of selection"
   ]
  },
  {
   "cell_type": "markdown",
   "metadata": {},
   "source": [
    "Reading the dataset again and using the required data, i.e., age and experience."
   ]
  },
  {
   "cell_type": "code",
   "execution_count": 29,
   "metadata": {},
   "outputs": [],
   "source": [
    "data = pd.read_csv('astronauts.csv')\n",
    "df = pd.DataFrame()\n",
    "df['Name'] = data['name']\n",
    "df['Age at Mission'] =  data['year_of_mission'] - data['year_of_birth']\n",
    "df['Experiance'] =  data['year_of_mission'] - data['year_of_selection']"
   ]
  },
  {
   "cell_type": "markdown",
   "metadata": {},
   "source": [
    "A glance at the dataframe."
   ]
  },
  {
   "cell_type": "code",
   "execution_count": 30,
   "metadata": {},
   "outputs": [
    {
     "data": {
      "text/html": [
       "<div>\n",
       "<style scoped>\n",
       "    .dataframe tbody tr th:only-of-type {\n",
       "        vertical-align: middle;\n",
       "    }\n",
       "\n",
       "    .dataframe tbody tr th {\n",
       "        vertical-align: top;\n",
       "    }\n",
       "\n",
       "    .dataframe thead th {\n",
       "        text-align: right;\n",
       "    }\n",
       "</style>\n",
       "<table border=\"1\" class=\"dataframe\">\n",
       "  <thead>\n",
       "    <tr style=\"text-align: right;\">\n",
       "      <th></th>\n",
       "      <th>Name</th>\n",
       "      <th>Age at Mission</th>\n",
       "      <th>Experiance</th>\n",
       "    </tr>\n",
       "  </thead>\n",
       "  <tbody>\n",
       "    <tr>\n",
       "      <th>0</th>\n",
       "      <td>Gagarin, Yuri</td>\n",
       "      <td>27</td>\n",
       "      <td>1</td>\n",
       "    </tr>\n",
       "    <tr>\n",
       "      <th>1</th>\n",
       "      <td>Titov, Gherman</td>\n",
       "      <td>26</td>\n",
       "      <td>1</td>\n",
       "    </tr>\n",
       "    <tr>\n",
       "      <th>2</th>\n",
       "      <td>Glenn, John H., Jr.</td>\n",
       "      <td>41</td>\n",
       "      <td>3</td>\n",
       "    </tr>\n",
       "    <tr>\n",
       "      <th>3</th>\n",
       "      <td>Glenn, John H., Jr.</td>\n",
       "      <td>77</td>\n",
       "      <td>39</td>\n",
       "    </tr>\n",
       "    <tr>\n",
       "      <th>4</th>\n",
       "      <td>Carpenter, M. Scott</td>\n",
       "      <td>37</td>\n",
       "      <td>3</td>\n",
       "    </tr>\n",
       "    <tr>\n",
       "      <th>...</th>\n",
       "      <td>...</td>\n",
       "      <td>...</td>\n",
       "      <td>...</td>\n",
       "    </tr>\n",
       "    <tr>\n",
       "      <th>1272</th>\n",
       "      <td>McClain, Anne Charlotte</td>\n",
       "      <td>39</td>\n",
       "      <td>5</td>\n",
       "    </tr>\n",
       "    <tr>\n",
       "      <th>1273</th>\n",
       "      <td>Koch, Christina</td>\n",
       "      <td>40</td>\n",
       "      <td>6</td>\n",
       "    </tr>\n",
       "    <tr>\n",
       "      <th>1274</th>\n",
       "      <td>Morgan, Andrew</td>\n",
       "      <td>43</td>\n",
       "      <td>6</td>\n",
       "    </tr>\n",
       "    <tr>\n",
       "      <th>1275</th>\n",
       "      <td>Meir, Jessica</td>\n",
       "      <td>42</td>\n",
       "      <td>6</td>\n",
       "    </tr>\n",
       "    <tr>\n",
       "      <th>1276</th>\n",
       "      <td>Al Mansoori, Hazzaa</td>\n",
       "      <td>36</td>\n",
       "      <td>1</td>\n",
       "    </tr>\n",
       "  </tbody>\n",
       "</table>\n",
       "<p>1277 rows × 3 columns</p>\n",
       "</div>"
      ],
      "text/plain": [
       "                         Name  Age at Mission  Experiance\n",
       "0               Gagarin, Yuri              27           1\n",
       "1              Titov, Gherman              26           1\n",
       "2         Glenn, John H., Jr.              41           3\n",
       "3         Glenn, John H., Jr.              77          39\n",
       "4         Carpenter, M. Scott              37           3\n",
       "...                       ...             ...         ...\n",
       "1272  McClain, Anne Charlotte              39           5\n",
       "1273          Koch, Christina              40           6\n",
       "1274           Morgan, Andrew              43           6\n",
       "1275            Meir, Jessica              42           6\n",
       "1276      Al Mansoori, Hazzaa              36           1\n",
       "\n",
       "[1277 rows x 3 columns]"
      ]
     },
     "execution_count": 30,
     "metadata": {},
     "output_type": "execute_result"
    }
   ],
   "source": [
    "df"
   ]
  },
  {
   "cell_type": "markdown",
   "metadata": {},
   "source": [
    "# Correlation \n"
   ]
  },
  {
   "cell_type": "code",
   "execution_count": 37,
   "metadata": {},
   "outputs": [
    {
     "data": {
      "text/html": [
       "<div>\n",
       "<style scoped>\n",
       "    .dataframe tbody tr th:only-of-type {\n",
       "        vertical-align: middle;\n",
       "    }\n",
       "\n",
       "    .dataframe tbody tr th {\n",
       "        vertical-align: top;\n",
       "    }\n",
       "\n",
       "    .dataframe thead th {\n",
       "        text-align: right;\n",
       "    }\n",
       "</style>\n",
       "<table border=\"1\" class=\"dataframe\">\n",
       "  <thead>\n",
       "    <tr style=\"text-align: right;\">\n",
       "      <th></th>\n",
       "      <th>Age at Mission</th>\n",
       "      <th>Experiance</th>\n",
       "    </tr>\n",
       "  </thead>\n",
       "  <tbody>\n",
       "    <tr>\n",
       "      <th>Age at Mission</th>\n",
       "      <td>1.000000</td>\n",
       "      <td>0.657102</td>\n",
       "    </tr>\n",
       "    <tr>\n",
       "      <th>Experiance</th>\n",
       "      <td>0.657102</td>\n",
       "      <td>1.000000</td>\n",
       "    </tr>\n",
       "  </tbody>\n",
       "</table>\n",
       "</div>"
      ],
      "text/plain": [
       "                Age at Mission  Experiance\n",
       "Age at Mission        1.000000    0.657102\n",
       "Experiance            0.657102    1.000000"
      ]
     },
     "execution_count": 37,
     "metadata": {},
     "output_type": "execute_result"
    }
   ],
   "source": [
    "df.corr()"
   ]
  },
  {
   "cell_type": "markdown",
   "metadata": {},
   "source": [
    "Making numpy arrays from the dataframe."
   ]
  },
  {
   "cell_type": "code",
   "execution_count": 31,
   "metadata": {},
   "outputs": [],
   "source": [
    "age = np.array(df['Age at Mission'])\n",
    "XP = np.array(df['Experiance'])"
   ]
  },
  {
   "cell_type": "markdown",
   "metadata": {},
   "source": [
    "# Defining functions to calculate point estimates"
   ]
  },
  {
   "cell_type": "code",
   "execution_count": 32,
   "metadata": {},
   "outputs": [],
   "source": [
    "def b_1(x,y):#slope\n",
    "    x_bar = x.mean()\n",
    "    y_bar = y.mean()\n",
    "    s_yx = 0\n",
    "    s_xx = 0\n",
    "    for i in range(len(x)):\n",
    "        s_yx += (y[i]-y_bar)*(x[i] - x_bar)\n",
    "        s_xx += (x[i] - x_bar)**2\n",
    "    return s_yx/s_xx\n",
    "\n",
    "def b_0(x,y):#intercept with y-axis\n",
    "    m = b_1(x,y)\n",
    "    x_bar = x.mean()\n",
    "    y_bar = y.mean()\n",
    "    return y_bar - m*x_bar\n",
    "\n",
    "def R2(x,y):\n",
    "    y_bar = y.mean()\n",
    "    SSR=0\n",
    "    SST=0\n",
    "    m = b_1(x,y)\n",
    "    c = b_0(x,y)\n",
    "    for i in range(len(x)):\n",
    "        SST += (y[i]-y_bar)**2\n",
    "        SSR += (m*x[i]+c - y_bar)**2\n",
    "    return SSR/SST"
   ]
  },
  {
   "cell_type": "code",
   "execution_count": 33,
   "metadata": {},
   "outputs": [
    {
     "data": {
      "text/plain": [
       "0.4317830090180474"
      ]
     },
     "execution_count": 33,
     "metadata": {},
     "output_type": "execute_result"
    }
   ],
   "source": [
    "R2(age,XP)"
   ]
  },
  {
   "cell_type": "code",
   "execution_count": 34,
   "metadata": {},
   "outputs": [
    {
     "name": "stdout",
     "output_type": "stream",
     "text": [
      "Point estimate of  of slope linear regression is = 0.5761651673754774 \n",
      "\n",
      "Point estimate of y- intercept of linear regression is = -15.705495289365244\n"
     ]
    }
   ],
   "source": [
    "m = b_1(age,XP)\n",
    "c = b_0(age,XP)\n",
    "\n",
    "print('Point estimate of  of slope linear regression is =',m, '\\n')\n",
    "print('Point estimate of y- intercept of linear regression is =', c)\n",
    "    \n"
   ]
  },
  {
   "cell_type": "markdown",
   "metadata": {},
   "source": [
    "# Interval Estimates"
   ]
  },
  {
   "cell_type": "code",
   "execution_count": 35,
   "metadata": {},
   "outputs": [
    {
     "data": {
      "application/vnd.jupyter.widget-view+json": {
       "model_id": "51744e89f8494d5896dbf6a0da89b8e5",
       "version_major": 2,
       "version_minor": 0
      },
      "text/plain": [
       "interactive(children=(IntSlider(value=57, description='n', min=15), IntSlider(value=2525, description='m', max…"
      ]
     },
     "metadata": {},
     "output_type": "display_data"
    }
   ],
   "source": [
    "def intervalEst(n, m, conf):\n",
    "    samples = pd.DataFrame()\n",
    "    b_0_list = []\n",
    "    b_1_list = []\n",
    "    \n",
    "    for i in range(m):\n",
    "        samples = df.sample(n = n)\n",
    "        age = np.array(samples['Age at Mission'])\n",
    "        XP = np.array(samples['Experiance'])\n",
    "        b_0_list.append(b_0(age, XP))\n",
    "        b_1_list.append(b_1(age, XP))\n",
    "    \n",
    "    b_0_list = np.array(b_0_list)\n",
    "    b_1_list = np.array(b_1_list)\n",
    "    '''plt.subplot(1,2,1)\n",
    "    plt.hist(b_0_list)\n",
    "    plt.subplot(1,2,2)\n",
    "    plt.hist(b_1_list)'''\n",
    "    print('Interval estimates of slope of linear regression with confidence interval ',conf,' is =',np.percentile(b_1_list,[(100-conf)/2,conf+(100-conf)/2]), '\\n')\n",
    "    print('Interval estimates of y- intercept of linear regression with confidence interval ',conf,' is =', np.percentile(b_0_list,[2.5,97.5]))\n",
    "interact(intervalEst, n = (15, 100, 1), m = (50, 5000, 1), conf = (95,100,0.5));\n"
   ]
  },
  {
   "cell_type": "markdown",
   "metadata": {},
   "source": [
    "# Plot\n"
   ]
  },
  {
   "cell_type": "code",
   "execution_count": 36,
   "metadata": {},
   "outputs": [
    {
     "data": {
      "text/plain": [
       "Text(0, 0.5, 'Years of Experience')"
      ]
     },
     "execution_count": 36,
     "metadata": {},
     "output_type": "execute_result"
    },
    {
     "data": {
      "image/png": "[encoded data removed]",
      "text/plain": [
       "<Figure size 576x432 with 1 Axes>"
      ]
     },
     "metadata": {
      "needs_background": "light"
     },
     "output_type": "display_data"
    }
   ],
   "source": [
    "plt.figure(figsize = (8,6))\n",
    "plt.scatter(age, XP, alpha = 0.25)\n",
    "L = np.linspace(age.min(),age.max(),)\n",
    "M = b_1(age,XP)*L  + b_0(age,XP)\n",
    "plt.plot(L ,M, 'r')\n",
    "plt.xlabel('Age at Mission')\n",
    "plt.ylabel('Years of Experience')"
   ]
  },
  {
   "cell_type": "markdown",
   "metadata": {},
   "source": [
    "# [Presentation Video Link](https://drive.google.com/file/d/1G1x7gndN0sbB2Gxn6iGuTZIDFDqAM__V/view?usp=sharing)"
   ]
  }
 ],
 "metadata": {
  "kernelspec": {
   "display_name": "Python 3",
   "language": "python",
   "name": "python3"
  },
  "language_info": {
   "codemirror_mode": {
    "name": "ipython",
    "version": 3
   },
   "file_extension": ".py",
   "mimetype": "text/x-python",
   "name": "python",
   "nbconvert_exporter": "python",
   "pygments_lexer": "ipython3",
   "version": "3.8.5"
  }
 },
 "nbformat": 4,
 "nbformat_minor": 4
}
